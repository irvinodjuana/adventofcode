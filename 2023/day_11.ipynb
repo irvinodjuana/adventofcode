{
 "cells": [
  {
   "cell_type": "code",
   "execution_count": 20,
   "id": "06602eb4",
   "metadata": {},
   "outputs": [],
   "source": [
    "inp = \"\"\"...#......\n",
    ".......#..\n",
    "#.........\n",
    "..........\n",
    "......#...\n",
    ".#........\n",
    ".........#\n",
    "..........\n",
    ".......#..\n",
    "#...#.....\"\"\""
   ]
  },
  {
   "cell_type": "code",
   "execution_count": 21,
   "id": "655157fa",
   "metadata": {},
   "outputs": [
    {
     "name": "stdout",
     "output_type": "stream",
     "text": [
      "sum_dist 447073334102\n"
     ]
    }
   ],
   "source": [
    "matrix = [[c for c in row] for row in inp.split(\"\\n\")]\n",
    "n = len(matrix)\n",
    "m = len(matrix[0])\n",
    "\n",
    "empty_rows = set(range(n))\n",
    "empty_cols = set(range(m))\n",
    "\n",
    "glx = []\n",
    "\n",
    "for i in range(n):\n",
    "    for j in range(m):\n",
    "        if matrix[i][j] == \"#\":\n",
    "            glx.append((i, j))\n",
    "            empty_rows.discard(i)\n",
    "            empty_cols.discard(j)\n",
    "        \n",
    "# print(glx)\n",
    "# print(empty_rows)\n",
    "# print(empty_cols)\n",
    "\n",
    "N = len(glx)\n",
    "\n",
    "sum_dist = 0\n",
    "\n",
    "space_multiplier = 1000000\n",
    "\n",
    "for i in range(N):\n",
    "    for j in range(i+1, N):\n",
    "        x1, y1 = glx[i]\n",
    "        x2, y2 = glx[j]\n",
    "        \n",
    "        dist = abs(x2-x1) + abs(y2-y1)\n",
    "        \n",
    "        extra_dist = 0\n",
    "        \n",
    "        for r in empty_rows:\n",
    "            # empty row between two points\n",
    "            if ((x1 < r) != (x2 < r)):\n",
    "                extra_dist += (space_multiplier - 1)\n",
    "                \n",
    "        for c in empty_cols:\n",
    "            # empty col between points\n",
    "            if ((y1 < c) != (y2 < c)):\n",
    "                extra_dist += (space_multiplier - 1)\n",
    "        \n",
    "        sum_dist += dist\n",
    "        sum_dist += extra_dist\n",
    "#         print(f\"dist {i+1} to {j+1}: {dist + extra_dist}\")\n",
    "        \n",
    "print(\"sum_dist\", sum_dist)"
   ]
  }
 ],
 "metadata": {
  "kernelspec": {
   "display_name": "Python 3",
   "language": "python",
   "name": "python3"
  },
  "language_info": {
   "codemirror_mode": {
    "name": "ipython",
    "version": 3
   },
   "file_extension": ".py",
   "mimetype": "text/x-python",
   "name": "python",
   "nbconvert_exporter": "python",
   "pygments_lexer": "ipython3",
   "version": "3.6.8"
  }
 },
 "nbformat": 4,
 "nbformat_minor": 5
}
